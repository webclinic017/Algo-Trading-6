{
 "cells": [
  {
   "cell_type": "code",
   "execution_count": 1,
   "metadata": {},
   "outputs": [],
   "source": [
    "from bs4 import BeautifulSoup as bs\n",
    "import requests"
   ]
  },
  {
   "cell_type": "code",
   "execution_count": 2,
   "metadata": {},
   "outputs": [],
   "source": [
    "def get_income_statement(ticker):\n",
    "    temp = {}\n",
    "    url=f'https://finance.yahoo.com/quote/{ticker}/financials?p={ticker}'\n",
    "    page = requests.get(url)\n",
    "    soup = bs(page.content,'html.parser')\n",
    "\n",
    "    rows = soup.findAll('div',{'class':'D(tbr) fi-row Bgc($hoverBgColor):h'})\n",
    "    #Find EBIT row\n",
    "    for row in rows:\n",
    "        divs = row.findAll('div')\n",
    "        if len(divs) > 0:\n",
    "            indx = divs[0].find('div').find('span')\n",
    "            span = divs[4].find('span')\n",
    "            if indx and span:\n",
    "                temp[indx.text] = span.text\n",
    "    return temp"
   ]
  },
  {
   "cell_type": "code",
   "execution_count": 3,
   "metadata": {},
   "outputs": [],
   "source": [
    "def get_balance_sheet(ticker):\n",
    "    temp = {}\n",
    "    url=f'https://in.finance.yahoo.com/quote/{ticker}/balance-sheet?p={ticker}'\n",
    "    page = requests.get(url)\n",
    "    soup = bs(page.content,'html.parser')\n",
    "\n",
    "    rows = soup.findAll('div',{'class':'D(tbr) fi-row Bgc($hoverBgColor):h'})\n",
    "    #Find EBIT row\n",
    "    for row in rows:\n",
    "        divs = row.findAll('div')\n",
    "        if len(divs) > 0:\n",
    "            indx = divs[0].find('div').find('span')\n",
    "            span = divs[4].find('span')\n",
    "            if indx and span:\n",
    "                temp[indx.text] = span.text\n",
    "    return temp"
   ]
  },
  {
   "cell_type": "code",
   "execution_count": 4,
   "metadata": {},
   "outputs": [],
   "source": [
    "def get_cash_flow(ticker):\n",
    "    temp = {}\n",
    "    url=f'https://in.finance.yahoo.com/quote/{ticker}/cash-flow?p={ticker}'\n",
    "    page = requests.get(url)\n",
    "    soup = bs(page.content,'html.parser')\n",
    "\n",
    "    rows = soup.findAll('div',{'class':'D(tbr) fi-row Bgc($hoverBgColor):h'})\n",
    "    #Find EBIT row\n",
    "    for row in rows:\n",
    "        divs = row.findAll('div')\n",
    "        if len(divs) > 0:\n",
    "            indx = divs[0].find('div').find('span')\n",
    "            span = divs[4].find('span')\n",
    "            if indx and span:\n",
    "                temp[indx.text] = span.text\n",
    "    return temp"
   ]
  },
  {
   "cell_type": "code",
   "execution_count": 5,
   "metadata": {},
   "outputs": [],
   "source": [
    "def get_statistics(ticker):\n",
    "    temp = {}\n",
    "    url = f'https://in.finance.yahoo.com/quote/{ticker}/key-statistics?p={ticker}'\n",
    "    page = requests.get(url)\n",
    "    soup = bs(page.content,'html.parser')\n",
    "\n",
    "    rows = soup.findAll('tr')\n",
    "    #Find EBIT row\n",
    "    for row in rows:\n",
    "        print(row.text)\n",
    "    return temp"
   ]
  },
  {
   "cell_type": "code",
   "execution_count": 6,
   "metadata": {},
   "outputs": [],
   "source": [
    "#Care about Total Debt, Preferred stock, goodwill"
   ]
  },
  {
   "cell_type": "code",
   "execution_count": 7,
   "metadata": {},
   "outputs": [
    {
     "output_type": "stream",
     "name": "stdout",
     "text": [
      "Market cap (intra-day) 52.09T\nEnterprise value 32.14T\nTrailing P/E 28.12\nForward P/E 123.38\nPEG Ratio (5 yr expected) 11.45\nPrice/sales (ttm)6.42\nPrice/book (mrq)30.17\nEnterprise value/revenue 36.57\nEnterprise value/EBITDA 721.43\nBeta (5Y monthly) 1.20\n52-week change 352.90%\nS&P500 52-week change 334.56%\n52-week high 3145.09\n52-week low 380.19\n50-day moving average 3129.44\n200-day moving average 3127.65\nAvg vol (3-month) 396.92M\nAvg vol (10-day) 370.85M\nShares outstanding 516.69B\nImplied shares outstanding 6N/A\nFloat 16.67B\n% held by insiders 10.07%\n% held by institutions 158.71%\nShares short (13-May-2021) 494.75M\nShort ratio (13-May-2021) 41.01\nShort % of float (13-May-2021) 40.57%\nShort % of shares outstanding (13-May-2021) 40.57%\nShares short (prior month 14-Apr-2021) 4127.94M\nForward annual dividend rate 40.88\nForward annual dividend yield 40.71%\nTrailing annual dividend rate 30.82\nTrailing annual dividend yield 30.66%\n5-year average dividend yield 41.34\nPayout ratio 418.34%\nDividend date 312-May-2021\nEx-dividend date 406-May-2021\nLast split factor 24:1\nLast split date 330-Aug-2020\nFiscal year ends 25-Sep-2020\nMost-recent quarter (mrq)26-Mar-2021\nProfit margin 23.45%\nOperating margin (ttm)27.32%\nReturn on assets (ttm)16.90%\nReturn on equity (ttm)103.40%\nRevenue (ttm)325.41B\nRevenue per share (ttm)19.14\nQuarterly revenue growth (yoy)53.60%\nGross profit (ttm)104.96B\nEBITDA 99.82B\nNet income avi to common (ttm)76.31B\nDiluted EPS (ttm)4.45\nQuarterly earnings growth (yoy)110.10%\nTotal cash (mrq)69.83B\nTotal cash per share (mrq)4.18\nTotal debt (mrq)134.74B\nTotal debt/equity (mrq)194.78\nCurrent ratio (mrq)1.14\nBook value per share (mrq)4.15\nOperating cash flow (ttm)99.59B\nLevered free cash flow (ttm)80.12B\n"
     ]
    },
    {
     "output_type": "error",
     "ename": "KeyError",
     "evalue": "'Market cap'",
     "traceback": [
      "\u001b[0;31m---------------------------------------------------------------------------\u001b[0m",
      "\u001b[0;31mKeyError\u001b[0m                                  Traceback (most recent call last)",
      "\u001b[0;32m<ipython-input-7-d2474764e6eb>\u001b[0m in \u001b[0;36m<module>\u001b[0;34m\u001b[0m\n\u001b[1;32m      4\u001b[0m \u001b[0mstats\u001b[0m \u001b[0;34m=\u001b[0m \u001b[0mget_statistics\u001b[0m\u001b[0;34m(\u001b[0m\u001b[0;34m'AAPL'\u001b[0m\u001b[0;34m)\u001b[0m\u001b[0;34m\u001b[0m\u001b[0;34m\u001b[0m\u001b[0m\n\u001b[1;32m      5\u001b[0m \u001b[0;34m\u001b[0m\u001b[0m\n\u001b[0;32m----> 6\u001b[0;31m \u001b[0mmarket_cap\u001b[0m \u001b[0;34m=\u001b[0m \u001b[0mstats\u001b[0m\u001b[0;34m[\u001b[0m\u001b[0;34m'Market cap'\u001b[0m\u001b[0;34m]\u001b[0m\u001b[0;34m\u001b[0m\u001b[0;34m\u001b[0m\u001b[0m\n\u001b[0m\u001b[1;32m      7\u001b[0m \u001b[0mrevenue\u001b[0m \u001b[0;34m=\u001b[0m \u001b[0mincome\u001b[0m\u001b[0;34m[\u001b[0m\u001b[0;34m'Total Revenue'\u001b[0m\u001b[0;34m]\u001b[0m\u001b[0;34m\u001b[0m\u001b[0;34m\u001b[0m\u001b[0m\n\u001b[1;32m      8\u001b[0m \u001b[0mEBIT\u001b[0m \u001b[0;34m=\u001b[0m \u001b[0mincome\u001b[0m\u001b[0;34m[\u001b[0m\u001b[0;34m'EBIT'\u001b[0m\u001b[0;34m]\u001b[0m\u001b[0;34m\u001b[0m\u001b[0;34m\u001b[0m\u001b[0m\n",
      "\u001b[0;31mKeyError\u001b[0m: 'Market cap'"
     ]
    }
   ],
   "source": [
    "income = get_income_statement('AAPL')\n",
    "balance = get_balance_sheet('AAPL')\n",
    "cash = get_cash_flow('AAPL')\n",
    "stats = get_statistics('AAPL')\n",
    "\n",
    "market_cap = stats['Market cap']\n",
    "revenue = income['Total Revenue']\n",
    "EBIT = income['EBIT']\n",
    "cash_and_ST = balance['Cash and cash equivalents']\n",
    "total_current_liabilities = balance['Total current liabilities']\n",
    "total_assets = balance['Total assets']\n",
    "goodwill = 0\n",
    "total_current_assets = balance['Total current assets']\n",
    "total_debt = stats['Total Debt']\n",
    "long_term_debt = balance['Long-term debt']\n",
    "minority_interest = income['Net Income from Continuing Operation Net Minority Interest']\n",
    "preferred_stock = 0\n",
    "net_fixed_assets = total_assets - total_current_assets - goodwill\n",
    "excess_cash = max(cash_and_ST - 0.2*(revenue), 0)\n",
    "net_working_capital = max(total_current_assets - excess_cash - (total_current_liabilities - (total_debt- long_term_debt)))\n",
    "\n",
    "\n",
    "enterprise_value = market_cap + total_debt + minority_interest + preferred_stock - cash_and_ST\n",
    "ROIC = EBIT/(net_fixed_assets + net_working_capital)\n",
    "earnings_yield = EBIT/enterprise_value"
   ]
  },
  {
   "cell_type": "code",
   "execution_count": null,
   "metadata": {},
   "outputs": [],
   "source": []
  }
 ],
 "metadata": {
  "kernelspec": {
   "name": "python385jvsc74a57bd0752579dbebe7f4dfe7c1aa72eac13e23fc88be2cc1ea7ab14e1f8d69b2d97d12",
   "display_name": "Python 3.8.5 64-bit ('3.8')"
  },
  "language_info": {
   "codemirror_mode": {
    "name": "ipython",
    "version": 3
   },
   "file_extension": ".py",
   "mimetype": "text/x-python",
   "name": "python",
   "nbconvert_exporter": "python",
   "pygments_lexer": "ipython3",
   "version": "3.8.5"
  },
  "metadata": {
   "interpreter": {
    "hash": "752579dbebe7f4dfe7c1aa72eac13e23fc88be2cc1ea7ab14e1f8d69b2d97d12"
   }
  }
 },
 "nbformat": 4,
 "nbformat_minor": 4
}